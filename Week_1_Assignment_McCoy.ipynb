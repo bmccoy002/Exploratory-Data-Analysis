{
 "cells": [
  {
   "cell_type": "markdown",
   "metadata": {},
   "source": [
    "# Assignment\n",
    "\n",
    "Use the \"from the expert\" (FTE) jupyter notebook as a starter for this assignment, and ask your instructor questions if you need help.\n",
    "\n",
    "Use the `churn_data.csv` file to carry out a similar EDA and visualization process as what we did in the FTE. Create at least 2 EDA plots, and create a HTML file with an auto-EDA analysis using pandas-profiling or another auto-EDA Python package. Write a short analysis at the end of the assignment in markdown. \n",
    "\n",
    "## Data science process steps this week\n",
    "We will carry out the first two parts of the CRISP-DM data science process this week:\n",
    "\n",
    "1. Business understanding\n",
    "\n",
    "This is customer churn data for a telecommunications company. Customers can have phone as well as other services. The company is looking to reduce customer churn, where customers stop using the company's services and cancel their account. The 'Churn' column has a binary target, yes or no, that denotes if a customer churned. We want to create a machine learning model to predict the Churn target using the other available data in the dataset. Ideally, we will deploy this model to integrate with the company's database, so that a churn risk column is created for each customer. This will enable customer service reps and others to devise and use strategies to reduce churn.\n",
    "\n",
    "\n",
    "2. Data understanding\n",
    "\n",
    "Carry out some EDA as we did in the FTE, such as using pandas-profiling. Create a histogram like we did in the FTE, where we plot a numeric column with the target as the 'hue'. Optional challenge: create other plots with the target as the hue, such as bar plots for the categorical columns."
   ]
  },
  {
   "cell_type": "code",
   "execution_count": 2,
   "metadata": {},
   "outputs": [
    {
     "name": "stdout",
     "output_type": "stream",
     "text": [
      "Requirement already satisfied: pandas-profiling in /Users/brim/opt/anaconda3/lib/python3.9/site-packages (3.4.0)\n",
      "Requirement already satisfied: pydantic<1.11,>=1.8.1 in /Users/brim/opt/anaconda3/lib/python3.9/site-packages (from pandas-profiling) (1.10.2)\n",
      "Requirement already satisfied: requests<2.29,>=2.24.0 in /Users/brim/opt/anaconda3/lib/python3.9/site-packages (from pandas-profiling) (2.28.1)\n",
      "Requirement already satisfied: jinja2<3.2,>=2.11.1 in /Users/brim/opt/anaconda3/lib/python3.9/site-packages (from pandas-profiling) (2.11.3)\n",
      "Requirement already satisfied: missingno<0.6,>=0.4.2 in /Users/brim/opt/anaconda3/lib/python3.9/site-packages (from pandas-profiling) (0.5.1)\n",
      "Requirement already satisfied: PyYAML<6.1,>=5.0.0 in /Users/brim/opt/anaconda3/lib/python3.9/site-packages (from pandas-profiling) (6.0)\n",
      "Requirement already satisfied: matplotlib<3.6,>=3.2 in /Users/brim/opt/anaconda3/lib/python3.9/site-packages (from pandas-profiling) (3.5.2)\n",
      "Requirement already satisfied: phik<0.13,>=0.11.1 in /Users/brim/opt/anaconda3/lib/python3.9/site-packages (from pandas-profiling) (0.12.2)\n",
      "Requirement already satisfied: pandas!=1.4.0,<1.6,>1.1 in /Users/brim/opt/anaconda3/lib/python3.9/site-packages (from pandas-profiling) (1.4.4)\n",
      "Requirement already satisfied: tqdm<4.65,>=4.48.2 in /Users/brim/opt/anaconda3/lib/python3.9/site-packages (from pandas-profiling) (4.64.1)\n",
      "Requirement already satisfied: seaborn<0.13,>=0.10.1 in /Users/brim/opt/anaconda3/lib/python3.9/site-packages (from pandas-profiling) (0.11.2)\n",
      "Requirement already satisfied: multimethod<1.10,>=1.4 in /Users/brim/opt/anaconda3/lib/python3.9/site-packages (from pandas-profiling) (1.9)\n",
      "Requirement already satisfied: numpy<1.24,>=1.16.0 in /Users/brim/opt/anaconda3/lib/python3.9/site-packages (from pandas-profiling) (1.21.5)\n",
      "Requirement already satisfied: htmlmin==0.1.12 in /Users/brim/opt/anaconda3/lib/python3.9/site-packages (from pandas-profiling) (0.1.12)\n",
      "Requirement already satisfied: statsmodels<0.14,>=0.13.2 in /Users/brim/opt/anaconda3/lib/python3.9/site-packages (from pandas-profiling) (0.13.2)\n",
      "Requirement already satisfied: scipy<1.10,>=1.4.1 in /Users/brim/opt/anaconda3/lib/python3.9/site-packages (from pandas-profiling) (1.7.3)\n",
      "Requirement already satisfied: visions[type_image_path]==0.7.5 in /Users/brim/opt/anaconda3/lib/python3.9/site-packages (from pandas-profiling) (0.7.5)\n",
      "Requirement already satisfied: tangled-up-in-unicode>=0.0.4 in /Users/brim/opt/anaconda3/lib/python3.9/site-packages (from visions[type_image_path]==0.7.5->pandas-profiling) (0.2.0)\n",
      "Requirement already satisfied: networkx>=2.4 in /Users/brim/opt/anaconda3/lib/python3.9/site-packages (from visions[type_image_path]==0.7.5->pandas-profiling) (2.8.4)\n",
      "Requirement already satisfied: attrs>=19.3.0 in /Users/brim/opt/anaconda3/lib/python3.9/site-packages (from visions[type_image_path]==0.7.5->pandas-profiling) (21.4.0)\n",
      "Requirement already satisfied: Pillow in /Users/brim/opt/anaconda3/lib/python3.9/site-packages (from visions[type_image_path]==0.7.5->pandas-profiling) (9.2.0)\n",
      "Requirement already satisfied: imagehash in /Users/brim/opt/anaconda3/lib/python3.9/site-packages (from visions[type_image_path]==0.7.5->pandas-profiling) (4.3.1)\n",
      "Requirement already satisfied: MarkupSafe>=0.23 in /Users/brim/opt/anaconda3/lib/python3.9/site-packages (from jinja2<3.2,>=2.11.1->pandas-profiling) (2.0.1)\n",
      "Requirement already satisfied: fonttools>=4.22.0 in /Users/brim/opt/anaconda3/lib/python3.9/site-packages (from matplotlib<3.6,>=3.2->pandas-profiling) (4.25.0)\n",
      "Requirement already satisfied: packaging>=20.0 in /Users/brim/opt/anaconda3/lib/python3.9/site-packages (from matplotlib<3.6,>=3.2->pandas-profiling) (21.3)\n",
      "Requirement already satisfied: cycler>=0.10 in /Users/brim/opt/anaconda3/lib/python3.9/site-packages (from matplotlib<3.6,>=3.2->pandas-profiling) (0.11.0)\n",
      "Requirement already satisfied: python-dateutil>=2.7 in /Users/brim/opt/anaconda3/lib/python3.9/site-packages (from matplotlib<3.6,>=3.2->pandas-profiling) (2.8.2)\n",
      "Requirement already satisfied: pyparsing>=2.2.1 in /Users/brim/opt/anaconda3/lib/python3.9/site-packages (from matplotlib<3.6,>=3.2->pandas-profiling) (3.0.9)\n",
      "Requirement already satisfied: kiwisolver>=1.0.1 in /Users/brim/opt/anaconda3/lib/python3.9/site-packages (from matplotlib<3.6,>=3.2->pandas-profiling) (1.4.2)\n",
      "Requirement already satisfied: pytz>=2020.1 in /Users/brim/opt/anaconda3/lib/python3.9/site-packages (from pandas!=1.4.0,<1.6,>1.1->pandas-profiling) (2022.1)\n",
      "Requirement already satisfied: joblib>=0.14.1 in /Users/brim/opt/anaconda3/lib/python3.9/site-packages (from phik<0.13,>=0.11.1->pandas-profiling) (1.1.0)\n",
      "Requirement already satisfied: typing-extensions>=4.1.0 in /Users/brim/opt/anaconda3/lib/python3.9/site-packages (from pydantic<1.11,>=1.8.1->pandas-profiling) (4.3.0)\n",
      "Requirement already satisfied: certifi>=2017.4.17 in /Users/brim/opt/anaconda3/lib/python3.9/site-packages (from requests<2.29,>=2.24.0->pandas-profiling) (2022.9.24)\n",
      "Requirement already satisfied: urllib3<1.27,>=1.21.1 in /Users/brim/opt/anaconda3/lib/python3.9/site-packages (from requests<2.29,>=2.24.0->pandas-profiling) (1.26.11)\n",
      "Requirement already satisfied: idna<4,>=2.5 in /Users/brim/opt/anaconda3/lib/python3.9/site-packages (from requests<2.29,>=2.24.0->pandas-profiling) (3.3)\n",
      "Requirement already satisfied: charset-normalizer<3,>=2 in /Users/brim/opt/anaconda3/lib/python3.9/site-packages (from requests<2.29,>=2.24.0->pandas-profiling) (2.0.4)\n",
      "Requirement already satisfied: patsy>=0.5.2 in /Users/brim/opt/anaconda3/lib/python3.9/site-packages (from statsmodels<0.14,>=0.13.2->pandas-profiling) (0.5.2)\n",
      "Requirement already satisfied: six in /Users/brim/opt/anaconda3/lib/python3.9/site-packages (from patsy>=0.5.2->statsmodels<0.14,>=0.13.2->pandas-profiling) (1.16.0)\n",
      "Requirement already satisfied: PyWavelets in /Users/brim/opt/anaconda3/lib/python3.9/site-packages (from imagehash->visions[type_image_path]==0.7.5->pandas-profiling) (1.3.0)\n"
     ]
    }
   ],
   "source": [
    "#Install pandas-profiling which is helpful for automatic EDA\n",
    "#Proccess of EDA is to become familar with the data. We will look at m\n",
    "!pip install pandas-profiling "
   ]
  },
  {
   "cell_type": "code",
   "execution_count": 3,
   "metadata": {},
   "outputs": [],
   "source": [
    "import pandas as pd\n",
    "from pandas_profiling import ProfileReport\n",
    "import matplotlib.pyplot as plt"
   ]
  },
  {
   "cell_type": "code",
   "execution_count": 4,
   "metadata": {},
   "outputs": [
    {
     "data": {
      "text/html": [
       "<div>\n",
       "<style scoped>\n",
       "    .dataframe tbody tr th:only-of-type {\n",
       "        vertical-align: middle;\n",
       "    }\n",
       "\n",
       "    .dataframe tbody tr th {\n",
       "        vertical-align: top;\n",
       "    }\n",
       "\n",
       "    .dataframe thead th {\n",
       "        text-align: right;\n",
       "    }\n",
       "</style>\n",
       "<table border=\"1\" class=\"dataframe\">\n",
       "  <thead>\n",
       "    <tr style=\"text-align: right;\">\n",
       "      <th></th>\n",
       "      <th>customerID</th>\n",
       "      <th>tenure</th>\n",
       "      <th>PhoneService</th>\n",
       "      <th>Contract</th>\n",
       "      <th>PaymentMethod</th>\n",
       "      <th>MonthlyCharges</th>\n",
       "      <th>TotalCharges</th>\n",
       "      <th>Churn</th>\n",
       "    </tr>\n",
       "  </thead>\n",
       "  <tbody>\n",
       "    <tr>\n",
       "      <th>0</th>\n",
       "      <td>7590-VHVEG</td>\n",
       "      <td>1</td>\n",
       "      <td>No</td>\n",
       "      <td>Month-to-month</td>\n",
       "      <td>Electronic check</td>\n",
       "      <td>29.85</td>\n",
       "      <td>29.85</td>\n",
       "      <td>No</td>\n",
       "    </tr>\n",
       "    <tr>\n",
       "      <th>1</th>\n",
       "      <td>5575-GNVDE</td>\n",
       "      <td>34</td>\n",
       "      <td>Yes</td>\n",
       "      <td>One year</td>\n",
       "      <td>Mailed check</td>\n",
       "      <td>56.95</td>\n",
       "      <td>1889.50</td>\n",
       "      <td>No</td>\n",
       "    </tr>\n",
       "    <tr>\n",
       "      <th>2</th>\n",
       "      <td>3668-QPYBK</td>\n",
       "      <td>2</td>\n",
       "      <td>Yes</td>\n",
       "      <td>Month-to-month</td>\n",
       "      <td>Mailed check</td>\n",
       "      <td>53.85</td>\n",
       "      <td>108.15</td>\n",
       "      <td>Yes</td>\n",
       "    </tr>\n",
       "    <tr>\n",
       "      <th>3</th>\n",
       "      <td>7795-CFOCW</td>\n",
       "      <td>45</td>\n",
       "      <td>No</td>\n",
       "      <td>One year</td>\n",
       "      <td>Bank transfer (automatic)</td>\n",
       "      <td>42.30</td>\n",
       "      <td>1840.75</td>\n",
       "      <td>No</td>\n",
       "    </tr>\n",
       "    <tr>\n",
       "      <th>4</th>\n",
       "      <td>9237-HQITU</td>\n",
       "      <td>2</td>\n",
       "      <td>Yes</td>\n",
       "      <td>Month-to-month</td>\n",
       "      <td>Electronic check</td>\n",
       "      <td>70.70</td>\n",
       "      <td>151.65</td>\n",
       "      <td>Yes</td>\n",
       "    </tr>\n",
       "    <tr>\n",
       "      <th>...</th>\n",
       "      <td>...</td>\n",
       "      <td>...</td>\n",
       "      <td>...</td>\n",
       "      <td>...</td>\n",
       "      <td>...</td>\n",
       "      <td>...</td>\n",
       "      <td>...</td>\n",
       "      <td>...</td>\n",
       "    </tr>\n",
       "    <tr>\n",
       "      <th>7038</th>\n",
       "      <td>6840-RESVB</td>\n",
       "      <td>24</td>\n",
       "      <td>Yes</td>\n",
       "      <td>One year</td>\n",
       "      <td>Mailed check</td>\n",
       "      <td>84.80</td>\n",
       "      <td>1990.50</td>\n",
       "      <td>No</td>\n",
       "    </tr>\n",
       "    <tr>\n",
       "      <th>7039</th>\n",
       "      <td>2234-XADUH</td>\n",
       "      <td>72</td>\n",
       "      <td>Yes</td>\n",
       "      <td>One year</td>\n",
       "      <td>Credit card (automatic)</td>\n",
       "      <td>103.20</td>\n",
       "      <td>7362.90</td>\n",
       "      <td>No</td>\n",
       "    </tr>\n",
       "    <tr>\n",
       "      <th>7040</th>\n",
       "      <td>4801-JZAZL</td>\n",
       "      <td>11</td>\n",
       "      <td>No</td>\n",
       "      <td>Month-to-month</td>\n",
       "      <td>Electronic check</td>\n",
       "      <td>29.60</td>\n",
       "      <td>346.45</td>\n",
       "      <td>No</td>\n",
       "    </tr>\n",
       "    <tr>\n",
       "      <th>7041</th>\n",
       "      <td>8361-LTMKD</td>\n",
       "      <td>4</td>\n",
       "      <td>Yes</td>\n",
       "      <td>Month-to-month</td>\n",
       "      <td>Mailed check</td>\n",
       "      <td>74.40</td>\n",
       "      <td>306.60</td>\n",
       "      <td>Yes</td>\n",
       "    </tr>\n",
       "    <tr>\n",
       "      <th>7042</th>\n",
       "      <td>3186-AJIEK</td>\n",
       "      <td>66</td>\n",
       "      <td>Yes</td>\n",
       "      <td>Two year</td>\n",
       "      <td>Bank transfer (automatic)</td>\n",
       "      <td>105.65</td>\n",
       "      <td>6844.50</td>\n",
       "      <td>No</td>\n",
       "    </tr>\n",
       "  </tbody>\n",
       "</table>\n",
       "<p>7043 rows × 8 columns</p>\n",
       "</div>"
      ],
      "text/plain": [
       "      customerID  tenure PhoneService        Contract  \\\n",
       "0     7590-VHVEG       1           No  Month-to-month   \n",
       "1     5575-GNVDE      34          Yes        One year   \n",
       "2     3668-QPYBK       2          Yes  Month-to-month   \n",
       "3     7795-CFOCW      45           No        One year   \n",
       "4     9237-HQITU       2          Yes  Month-to-month   \n",
       "...          ...     ...          ...             ...   \n",
       "7038  6840-RESVB      24          Yes        One year   \n",
       "7039  2234-XADUH      72          Yes        One year   \n",
       "7040  4801-JZAZL      11           No  Month-to-month   \n",
       "7041  8361-LTMKD       4          Yes  Month-to-month   \n",
       "7042  3186-AJIEK      66          Yes        Two year   \n",
       "\n",
       "                  PaymentMethod  MonthlyCharges  TotalCharges Churn  \n",
       "0              Electronic check           29.85         29.85    No  \n",
       "1                  Mailed check           56.95       1889.50    No  \n",
       "2                  Mailed check           53.85        108.15   Yes  \n",
       "3     Bank transfer (automatic)           42.30       1840.75    No  \n",
       "4              Electronic check           70.70        151.65   Yes  \n",
       "...                         ...             ...           ...   ...  \n",
       "7038               Mailed check           84.80       1990.50    No  \n",
       "7039    Credit card (automatic)          103.20       7362.90    No  \n",
       "7040           Electronic check           29.60        346.45    No  \n",
       "7041               Mailed check           74.40        306.60   Yes  \n",
       "7042  Bank transfer (automatic)          105.65       6844.50    No  \n",
       "\n",
       "[7043 rows x 8 columns]"
      ]
     },
     "execution_count": 4,
     "metadata": {},
     "output_type": "execute_result"
    }
   ],
   "source": [
    "#read the csv file using pandas and store it into a dataframe \n",
    "data = pd.read_csv('churn_data.csv')\n",
    "#note: dataframes are based off of dictionaries.\n",
    "#printing the dataframe\n",
    "data"
   ]
  },
  {
   "cell_type": "code",
   "execution_count": 5,
   "metadata": {},
   "outputs": [
    {
     "data": {
      "text/html": [
       "<div>\n",
       "<style scoped>\n",
       "    .dataframe tbody tr th:only-of-type {\n",
       "        vertical-align: middle;\n",
       "    }\n",
       "\n",
       "    .dataframe tbody tr th {\n",
       "        vertical-align: top;\n",
       "    }\n",
       "\n",
       "    .dataframe thead th {\n",
       "        text-align: right;\n",
       "    }\n",
       "</style>\n",
       "<table border=\"1\" class=\"dataframe\">\n",
       "  <thead>\n",
       "    <tr style=\"text-align: right;\">\n",
       "      <th></th>\n",
       "      <th>customerID</th>\n",
       "      <th>tenure</th>\n",
       "      <th>PhoneService</th>\n",
       "      <th>Contract</th>\n",
       "      <th>PaymentMethod</th>\n",
       "      <th>MonthlyCharges</th>\n",
       "      <th>TotalCharges</th>\n",
       "      <th>Churn</th>\n",
       "    </tr>\n",
       "  </thead>\n",
       "  <tbody>\n",
       "    <tr>\n",
       "      <th>0</th>\n",
       "      <td>7590-VHVEG</td>\n",
       "      <td>1</td>\n",
       "      <td>No</td>\n",
       "      <td>Month-to-month</td>\n",
       "      <td>Electronic check</td>\n",
       "      <td>29.85</td>\n",
       "      <td>29.85</td>\n",
       "      <td>No</td>\n",
       "    </tr>\n",
       "    <tr>\n",
       "      <th>1</th>\n",
       "      <td>5575-GNVDE</td>\n",
       "      <td>34</td>\n",
       "      <td>Yes</td>\n",
       "      <td>One year</td>\n",
       "      <td>Mailed check</td>\n",
       "      <td>56.95</td>\n",
       "      <td>1889.50</td>\n",
       "      <td>No</td>\n",
       "    </tr>\n",
       "    <tr>\n",
       "      <th>2</th>\n",
       "      <td>3668-QPYBK</td>\n",
       "      <td>2</td>\n",
       "      <td>Yes</td>\n",
       "      <td>Month-to-month</td>\n",
       "      <td>Mailed check</td>\n",
       "      <td>53.85</td>\n",
       "      <td>108.15</td>\n",
       "      <td>Yes</td>\n",
       "    </tr>\n",
       "    <tr>\n",
       "      <th>3</th>\n",
       "      <td>7795-CFOCW</td>\n",
       "      <td>45</td>\n",
       "      <td>No</td>\n",
       "      <td>One year</td>\n",
       "      <td>Bank transfer (automatic)</td>\n",
       "      <td>42.30</td>\n",
       "      <td>1840.75</td>\n",
       "      <td>No</td>\n",
       "    </tr>\n",
       "    <tr>\n",
       "      <th>4</th>\n",
       "      <td>9237-HQITU</td>\n",
       "      <td>2</td>\n",
       "      <td>Yes</td>\n",
       "      <td>Month-to-month</td>\n",
       "      <td>Electronic check</td>\n",
       "      <td>70.70</td>\n",
       "      <td>151.65</td>\n",
       "      <td>Yes</td>\n",
       "    </tr>\n",
       "  </tbody>\n",
       "</table>\n",
       "</div>"
      ],
      "text/plain": [
       "   customerID  tenure PhoneService        Contract              PaymentMethod  \\\n",
       "0  7590-VHVEG       1           No  Month-to-month           Electronic check   \n",
       "1  5575-GNVDE      34          Yes        One year               Mailed check   \n",
       "2  3668-QPYBK       2          Yes  Month-to-month               Mailed check   \n",
       "3  7795-CFOCW      45           No        One year  Bank transfer (automatic)   \n",
       "4  9237-HQITU       2          Yes  Month-to-month           Electronic check   \n",
       "\n",
       "   MonthlyCharges  TotalCharges Churn  \n",
       "0           29.85         29.85    No  \n",
       "1           56.95       1889.50    No  \n",
       "2           53.85        108.15   Yes  \n",
       "3           42.30       1840.75    No  \n",
       "4           70.70        151.65   Yes  "
      ]
     },
     "execution_count": 5,
     "metadata": {},
     "output_type": "execute_result"
    }
   ],
   "source": [
    "#prints the first 5 rows of data.\n",
    "data.head()"
   ]
  },
  {
   "cell_type": "code",
   "execution_count": 6,
   "metadata": {},
   "outputs": [
    {
     "data": {
      "text/html": [
       "<div>\n",
       "<style scoped>\n",
       "    .dataframe tbody tr th:only-of-type {\n",
       "        vertical-align: middle;\n",
       "    }\n",
       "\n",
       "    .dataframe tbody tr th {\n",
       "        vertical-align: top;\n",
       "    }\n",
       "\n",
       "    .dataframe thead th {\n",
       "        text-align: right;\n",
       "    }\n",
       "</style>\n",
       "<table border=\"1\" class=\"dataframe\">\n",
       "  <thead>\n",
       "    <tr style=\"text-align: right;\">\n",
       "      <th></th>\n",
       "      <th>customerID</th>\n",
       "      <th>tenure</th>\n",
       "      <th>PhoneService</th>\n",
       "      <th>Contract</th>\n",
       "      <th>PaymentMethod</th>\n",
       "      <th>MonthlyCharges</th>\n",
       "      <th>TotalCharges</th>\n",
       "      <th>Churn</th>\n",
       "    </tr>\n",
       "  </thead>\n",
       "  <tbody>\n",
       "    <tr>\n",
       "      <th>7038</th>\n",
       "      <td>6840-RESVB</td>\n",
       "      <td>24</td>\n",
       "      <td>Yes</td>\n",
       "      <td>One year</td>\n",
       "      <td>Mailed check</td>\n",
       "      <td>84.80</td>\n",
       "      <td>1990.50</td>\n",
       "      <td>No</td>\n",
       "    </tr>\n",
       "    <tr>\n",
       "      <th>7039</th>\n",
       "      <td>2234-XADUH</td>\n",
       "      <td>72</td>\n",
       "      <td>Yes</td>\n",
       "      <td>One year</td>\n",
       "      <td>Credit card (automatic)</td>\n",
       "      <td>103.20</td>\n",
       "      <td>7362.90</td>\n",
       "      <td>No</td>\n",
       "    </tr>\n",
       "    <tr>\n",
       "      <th>7040</th>\n",
       "      <td>4801-JZAZL</td>\n",
       "      <td>11</td>\n",
       "      <td>No</td>\n",
       "      <td>Month-to-month</td>\n",
       "      <td>Electronic check</td>\n",
       "      <td>29.60</td>\n",
       "      <td>346.45</td>\n",
       "      <td>No</td>\n",
       "    </tr>\n",
       "    <tr>\n",
       "      <th>7041</th>\n",
       "      <td>8361-LTMKD</td>\n",
       "      <td>4</td>\n",
       "      <td>Yes</td>\n",
       "      <td>Month-to-month</td>\n",
       "      <td>Mailed check</td>\n",
       "      <td>74.40</td>\n",
       "      <td>306.60</td>\n",
       "      <td>Yes</td>\n",
       "    </tr>\n",
       "    <tr>\n",
       "      <th>7042</th>\n",
       "      <td>3186-AJIEK</td>\n",
       "      <td>66</td>\n",
       "      <td>Yes</td>\n",
       "      <td>Two year</td>\n",
       "      <td>Bank transfer (automatic)</td>\n",
       "      <td>105.65</td>\n",
       "      <td>6844.50</td>\n",
       "      <td>No</td>\n",
       "    </tr>\n",
       "  </tbody>\n",
       "</table>\n",
       "</div>"
      ],
      "text/plain": [
       "      customerID  tenure PhoneService        Contract  \\\n",
       "7038  6840-RESVB      24          Yes        One year   \n",
       "7039  2234-XADUH      72          Yes        One year   \n",
       "7040  4801-JZAZL      11           No  Month-to-month   \n",
       "7041  8361-LTMKD       4          Yes  Month-to-month   \n",
       "7042  3186-AJIEK      66          Yes        Two year   \n",
       "\n",
       "                  PaymentMethod  MonthlyCharges  TotalCharges Churn  \n",
       "7038               Mailed check           84.80       1990.50    No  \n",
       "7039    Credit card (automatic)          103.20       7362.90    No  \n",
       "7040           Electronic check           29.60        346.45    No  \n",
       "7041               Mailed check           74.40        306.60   Yes  \n",
       "7042  Bank transfer (automatic)          105.65       6844.50    No  "
      ]
     },
     "execution_count": 6,
     "metadata": {},
     "output_type": "execute_result"
    }
   ],
   "source": [
    "#prints the last 5 rows of data\n",
    "data.tail()"
   ]
  },
  {
   "cell_type": "code",
   "execution_count": 7,
   "metadata": {},
   "outputs": [
    {
     "data": {
      "text/plain": [
       "(7043, 8)"
      ]
     },
     "execution_count": 7,
     "metadata": {},
     "output_type": "execute_result"
    }
   ],
   "source": [
    "#tells us the (rows,colunmns)\n",
    "data.shape"
   ]
  },
  {
   "cell_type": "code",
   "execution_count": 8,
   "metadata": {},
   "outputs": [
    {
     "data": {
      "text/html": [
       "<div>\n",
       "<style scoped>\n",
       "    .dataframe tbody tr th:only-of-type {\n",
       "        vertical-align: middle;\n",
       "    }\n",
       "\n",
       "    .dataframe tbody tr th {\n",
       "        vertical-align: top;\n",
       "    }\n",
       "\n",
       "    .dataframe thead th {\n",
       "        text-align: right;\n",
       "    }\n",
       "</style>\n",
       "<table border=\"1\" class=\"dataframe\">\n",
       "  <thead>\n",
       "    <tr style=\"text-align: right;\">\n",
       "      <th></th>\n",
       "      <th>tenure</th>\n",
       "      <th>MonthlyCharges</th>\n",
       "      <th>TotalCharges</th>\n",
       "    </tr>\n",
       "  </thead>\n",
       "  <tbody>\n",
       "    <tr>\n",
       "      <th>count</th>\n",
       "      <td>7043.000000</td>\n",
       "      <td>7043.000000</td>\n",
       "      <td>7032.000000</td>\n",
       "    </tr>\n",
       "    <tr>\n",
       "      <th>mean</th>\n",
       "      <td>32.371149</td>\n",
       "      <td>64.761692</td>\n",
       "      <td>2283.300441</td>\n",
       "    </tr>\n",
       "    <tr>\n",
       "      <th>std</th>\n",
       "      <td>24.559481</td>\n",
       "      <td>30.090047</td>\n",
       "      <td>2266.771362</td>\n",
       "    </tr>\n",
       "    <tr>\n",
       "      <th>min</th>\n",
       "      <td>0.000000</td>\n",
       "      <td>18.250000</td>\n",
       "      <td>18.800000</td>\n",
       "    </tr>\n",
       "    <tr>\n",
       "      <th>25%</th>\n",
       "      <td>9.000000</td>\n",
       "      <td>35.500000</td>\n",
       "      <td>401.450000</td>\n",
       "    </tr>\n",
       "    <tr>\n",
       "      <th>50%</th>\n",
       "      <td>29.000000</td>\n",
       "      <td>70.350000</td>\n",
       "      <td>1397.475000</td>\n",
       "    </tr>\n",
       "    <tr>\n",
       "      <th>75%</th>\n",
       "      <td>55.000000</td>\n",
       "      <td>89.850000</td>\n",
       "      <td>3794.737500</td>\n",
       "    </tr>\n",
       "    <tr>\n",
       "      <th>max</th>\n",
       "      <td>72.000000</td>\n",
       "      <td>118.750000</td>\n",
       "      <td>8684.800000</td>\n",
       "    </tr>\n",
       "  </tbody>\n",
       "</table>\n",
       "</div>"
      ],
      "text/plain": [
       "            tenure  MonthlyCharges  TotalCharges\n",
       "count  7043.000000     7043.000000   7032.000000\n",
       "mean     32.371149       64.761692   2283.300441\n",
       "std      24.559481       30.090047   2266.771362\n",
       "min       0.000000       18.250000     18.800000\n",
       "25%       9.000000       35.500000    401.450000\n",
       "50%      29.000000       70.350000   1397.475000\n",
       "75%      55.000000       89.850000   3794.737500\n",
       "max      72.000000      118.750000   8684.800000"
      ]
     },
     "execution_count": 8,
     "metadata": {},
     "output_type": "execute_result"
    }
   ],
   "source": [
    "#provides statistial info on the numerical columns\n",
    "data.describe()"
   ]
  },
  {
   "cell_type": "code",
   "execution_count": 9,
   "metadata": {},
   "outputs": [
    {
     "data": {
      "text/plain": [
       "customerID        7043\n",
       "tenure              73\n",
       "PhoneService         2\n",
       "Contract             3\n",
       "PaymentMethod        4\n",
       "MonthlyCharges    1585\n",
       "TotalCharges      6530\n",
       "Churn                2\n",
       "dtype: int64"
      ]
     },
     "execution_count": 9,
     "metadata": {},
     "output_type": "execute_result"
    }
   ],
   "source": [
    "#This will tell us how many values we have per data type. Example: we have 2 values for churn, yes or no. \n",
    "data.nunique()"
   ]
  },
  {
   "cell_type": "code",
   "execution_count": 10,
   "metadata": {},
   "outputs": [
    {
     "data": {
      "text/plain": [
       "array(['Electronic check', 'Mailed check', 'Bank transfer (automatic)',\n",
       "       'Credit card (automatic)'], dtype=object)"
      ]
     },
     "execution_count": 10,
     "metadata": {},
     "output_type": "execute_result"
    }
   ],
   "source": [
    "#this will show us the two unique values for a specific column; in this it is PaymentMethod\n",
    "#this is considered a function and can pass values \n",
    "data['PaymentMethod'].unique()"
   ]
  },
  {
   "cell_type": "code",
   "execution_count": 11,
   "metadata": {},
   "outputs": [
    {
     "data": {
      "text/plain": [
       "Index(['customerID', 'tenure', 'PhoneService', 'Contract', 'PaymentMethod',\n",
       "       'MonthlyCharges', 'TotalCharges', 'Churn'],\n",
       "      dtype='object')"
      ]
     },
     "execution_count": 11,
     "metadata": {},
     "output_type": "execute_result"
    }
   ],
   "source": [
    "#pass the names of the columns into a list \n",
    "#has no () because it is an attribute. Contain fixed values and do not allow us to pass arguments. \n",
    "data.columns"
   ]
  },
  {
   "cell_type": "code",
   "execution_count": 12,
   "metadata": {},
   "outputs": [
    {
     "data": {
      "text/plain": [
       "array([ 1, 34,  2, 45,  8, 22, 10, 28, 62, 13, 16, 58, 49, 25, 69, 52, 71,\n",
       "       21, 12, 30, 47, 72, 17, 27,  5, 46, 11, 70, 63, 43, 15, 60, 18, 66,\n",
       "        9,  3, 31, 50, 64, 56,  7, 42, 35, 48, 29, 65, 38, 68, 32, 55, 37,\n",
       "       36, 41,  6,  4, 33, 67, 23, 57, 61, 14, 20, 53, 40, 59, 24, 44, 19,\n",
       "       54, 51, 26,  0, 39])"
      ]
     },
     "execution_count": 12,
     "metadata": {},
     "output_type": "execute_result"
    }
   ],
   "source": [
    "#gets unique values for a specific column \n",
    "data['tenure'].unique()"
   ]
  },
  {
   "cell_type": "code",
   "execution_count": 13,
   "metadata": {},
   "outputs": [
    {
     "data": {
      "application/vnd.jupyter.widget-view+json": {
       "model_id": "c5c1dc761c534a0ba0e4e2fcb14268a4",
       "version_major": 2,
       "version_minor": 0
      },
      "text/plain": [
       "Summarize dataset:   0%|          | 0/5 [00:00<?, ?it/s]"
      ]
     },
     "metadata": {},
     "output_type": "display_data"
    },
    {
     "data": {
      "application/vnd.jupyter.widget-view+json": {
       "model_id": "332db2173c1b44aa9e48f5827e3094b7",
       "version_major": 2,
       "version_minor": 0
      },
      "text/plain": [
       "Generate report structure:   0%|          | 0/1 [00:00<?, ?it/s]"
      ]
     },
     "metadata": {},
     "output_type": "display_data"
    },
    {
     "data": {
      "application/vnd.jupyter.widget-view+json": {
       "model_id": "5548417628934661b1045d2c48732f6f",
       "version_major": 2,
       "version_minor": 0
      },
      "text/plain": [
       "Render HTML:   0%|          | 0/1 [00:00<?, ?it/s]"
      ]
     },
     "metadata": {},
     "output_type": "display_data"
    },
    {
     "data": {
      "application/vnd.jupyter.widget-view+json": {
       "model_id": "1ff78bd726e448309527bffd8fe4abd1",
       "version_major": 2,
       "version_minor": 0
      },
      "text/plain": [
       "Export report to file:   0%|          | 0/1 [00:00<?, ?it/s]"
      ]
     },
     "metadata": {},
     "output_type": "display_data"
    }
   ],
   "source": [
    "#from the pandas libary, ProfileReport is a method that generates a report and I assigned it to the variable auto_eda\n",
    "auto_eda = ProfileReport(data)\n",
    "auto_eda.to_file('churn_eda.html')"
   ]
  },
  {
   "cell_type": "code",
   "execution_count": 14,
   "metadata": {},
   "outputs": [
    {
     "name": "stdout",
     "output_type": "stream",
     "text": [
      "<class 'pandas.core.frame.DataFrame'>\n",
      "RangeIndex: 7043 entries, 0 to 7042\n",
      "Data columns (total 8 columns):\n",
      " #   Column          Non-Null Count  Dtype  \n",
      "---  ------          --------------  -----  \n",
      " 0   customerID      7043 non-null   object \n",
      " 1   tenure          7043 non-null   int64  \n",
      " 2   PhoneService    7043 non-null   object \n",
      " 3   Contract        7043 non-null   object \n",
      " 4   PaymentMethod   7043 non-null   object \n",
      " 5   MonthlyCharges  7043 non-null   float64\n",
      " 6   TotalCharges    7032 non-null   float64\n",
      " 7   Churn           7043 non-null   object \n",
      "dtypes: float64(2), int64(1), object(5)\n",
      "memory usage: 440.3+ KB\n"
     ]
    }
   ],
   "source": [
    "data.info()"
   ]
  },
  {
   "cell_type": "code",
   "execution_count": 15,
   "metadata": {},
   "outputs": [
    {
     "data": {
      "text/plain": [
       "1     613\n",
       "72    362\n",
       "2     238\n",
       "3     200\n",
       "4     176\n",
       "     ... \n",
       "28     57\n",
       "39     56\n",
       "44     51\n",
       "36     50\n",
       "0      11\n",
       "Name: tenure, Length: 73, dtype: int64"
      ]
     },
     "execution_count": 15,
     "metadata": {},
     "output_type": "execute_result"
    }
   ],
   "source": [
    "data['tenure'].value_counts()"
   ]
  },
  {
   "cell_type": "code",
   "execution_count": 16,
   "metadata": {},
   "outputs": [
    {
     "data": {
      "text/plain": [
       "Month-to-month    3875\n",
       "Two year          1695\n",
       "One year          1473\n",
       "Name: Contract, dtype: int64"
      ]
     },
     "execution_count": 16,
     "metadata": {},
     "output_type": "execute_result"
    }
   ],
   "source": [
    "#shows counts of each unique value within a column \n",
    "data['Contract'].value_counts()"
   ]
  },
  {
   "cell_type": "code",
   "execution_count": 17,
   "metadata": {},
   "outputs": [
    {
     "data": {
      "image/png": "[encoded data removed]",
      "text/plain": [
       "<Figure size 640x480 with 1 Axes>"
      ]
     },
     "metadata": {},
     "output_type": "display_data"
    }
   ],
   "source": [
    " #entered this so my graph would show as the output \n",
    "%matplotlib inline\n",
    "#Takes the value counts of the column Contract and plots it as a bar graph with Contract as the x-axis\n",
    "data['Contract'].value_counts().plot.bar() \n",
    "plt.xlabel('Contract')\n",
    "plt.ylabel('Number of People')\n",
    "_ = plt.ylabel('Number of People')"
   ]
  },
  {
   "cell_type": "code",
   "execution_count": 18,
   "metadata": {},
   "outputs": [
    {
     "data": {
      "text/plain": [
       "No     5174\n",
       "Yes    1869\n",
       "Name: Churn, dtype: int64"
      ]
     },
     "execution_count": 18,
     "metadata": {},
     "output_type": "execute_result"
    },
    {
     "data": {
      "image/png": "[encoded data removed]",
      "text/plain": [
       "<Figure size 640x480 with 1 Axes>"
      ]
     },
     "metadata": {},
     "output_type": "display_data"
    }
   ],
   "source": [
    "data['Churn'].value_counts().plot.bar()\n",
    "plt.xlabel('Churn')\n",
    "plt.ylabel('Counts')\n",
    "_ = plt.ylabel('Counts')\n",
    "data['Churn'].value_counts()"
   ]
  },
  {
   "cell_type": "code",
   "execution_count": 19,
   "metadata": {},
   "outputs": [
    {
     "data": {
      "text/plain": [
       "<AxesSubplot:xlabel='Frequency', ylabel='tenure'>"
      ]
     },
     "execution_count": 19,
     "metadata": {},
     "output_type": "execute_result"
    },
    {
     "data": {
      "image/png": "[encoded data removed]",
      "text/plain": [
       "<Figure size 640x480 with 1 Axes>"
      ]
     },
     "metadata": {},
     "output_type": "display_data"
    }
   ],
   "source": [
    "#using seaborn to plot a histogram with the hue being churn value \n",
    "import phik\n",
    "import seaborn as sns\n",
    "sns.histplot(data = data, y='tenure', hue = 'Churn', stat = 'frequency', multiple='stack')\n",
    "#we see that shorter the tenure, the more people will churn "
   ]
  },
  {
   "cell_type": "code",
   "execution_count": 20,
   "metadata": {},
   "outputs": [
    {
     "data": {
      "text/plain": [
       "<AxesSubplot:xlabel='Frequency', ylabel='TotalCharges'>"
      ]
     },
     "execution_count": 20,
     "metadata": {},
     "output_type": "execute_result"
    },
    {
     "data": {
      "image/png": "[encoded data removed]",
      "text/plain": [
       "<Figure size 640x480 with 1 Axes>"
      ]
     },
     "metadata": {},
     "output_type": "display_data"
    }
   ],
   "source": [
    "sns.histplot(data = data, y='TotalCharges', hue ='Churn', stat = 'frequency', multiple = 'stack')\n",
    "#shows the less they are charged total, the more they leave. Yet, it also shows the more they pay, the less people have left. \n",
    "#This graph fails to tell us any information on how long these people were customers of the company.\n",
    "#They may have paid less than $2,000.00, but could it be possible that they left before having the opportunity\n",
    "#to pay more?  "
   ]
  },
  {
   "cell_type": "code",
   "execution_count": 21,
   "metadata": {},
   "outputs": [
    {
     "data": {
      "image/png": "[encoded data removed]",
      "text/plain": [
       "<Figure size 640x480 with 1 Axes>"
      ]
     },
     "metadata": {},
     "output_type": "display_data"
    }
   ],
   "source": [
    "_ = sns.histplot(data=data, y='Contract', hue = 'Churn', stat = 'frequency', multiple = 'stack')\n",
    "#majority of the people that churned, had the month to month contract. \n",
    "#Monthly charges could cost more, so people leave?"
   ]
  },
  {
   "cell_type": "code",
   "execution_count": 22,
   "metadata": {},
   "outputs": [
    {
     "data": {
      "image/png": "[encoded data removed]",
      "text/plain": [
       "<Figure size 640x480 with 1 Axes>"
      ]
     },
     "metadata": {},
     "output_type": "display_data"
    }
   ],
   "source": [
    "_ = sns.histplot(data=data, y='MonthlyCharges', hue = 'Churn', stat = 'frequency', multiple = 'stack')\n",
    "#Those paying higher monthly charges have left the company more than those paying less. "
   ]
  },
  {
   "cell_type": "code",
   "execution_count": 89,
   "metadata": {},
   "outputs": [
    {
     "name": "stdout",
     "output_type": "stream",
     "text": [
      "Churn\n",
      "No     61.265124\n",
      "Yes    74.441332\n",
      "Name: MonthlyCharges, dtype: float64\n",
      "Contract\n",
      "Month-to-month    66.398490\n",
      "One year          65.048608\n",
      "Two year          60.770413\n",
      "Name: MonthlyCharges, dtype: float64\n"
     ]
    },
    {
     "data": {
      "text/plain": [
       "<AxesSubplot:xlabel='Contract,Churn'>"
      ]
     },
     "execution_count": 89,
     "metadata": {},
     "output_type": "execute_result"
    },
    {
     "data": {
      "image/png": "[encoded data removed]",
      "text/plain": [
       "<Figure size 640x480 with 1 Axes>"
      ]
     },
     "metadata": {},
     "output_type": "display_data"
    }
   ],
   "source": [
    "#shows the average monthly cost of those that churned, and they paid more on average. \n",
    "#calculagtes the average monthly charges per churn value (yes and no)\n",
    "average_churn_monthly_cost =data.groupby('Churn')['MonthlyCharges'].mean()\n",
    "#calculates average monthly charge per contract \n",
    "average_contract_monthly_cost = data.groupby('Contract')['MonthlyCharges'].mean()\n",
    "print(average_churn_monthly_cost)\n",
    "print(average_contract_monthly_cost)\n",
    "#data.groupby('Contract')['MonthlyCharges'].mean().plot.bar()\n",
    "df = data.groupby(['Contract', 'Churn']).agg({'MonthlyCharges':'mean'})\n",
    "df\n",
    "df.plot.bar()\n",
    "#Here, we see that people that have left the company pay more on average for each contract. "
   ]
  },
  {
   "cell_type": "markdown",
   "metadata": {},
   "source": [
    "More than two graphs were plotted to try to find the correlation between different values to understand which customers have been leaving the company. The first graph displays that the more customers have the month-to-month contract regardless of churn. We do see, however, that most people are staying with the company. It was also shown that customers with a shorter tenure have left the company more so than those with longer tenures. Furthermore, it was also discovered that the less the total charges were, the more churn. This does spark more questions, as it would make sense for the higher the cost, the more churn. The relationship between monthly charges and frequency was plotted to show that the higher the monthly charges were, the more people left. Lastly, it is also true that the people that churn paid more on average regardless of the type of contract they had. Also, those who stayed with the company pay about the same amount of money regardless of the contract. When comparing the average costs of contracts for those that left the company, two year is more than one year which is more than the month-to-month contract."
   ]
  },
  {
   "cell_type": "code",
   "execution_count": null,
   "metadata": {},
   "outputs": [],
   "source": []
  },
  {
   "cell_type": "code",
   "execution_count": null,
   "metadata": {},
   "outputs": [],
   "source": []
  },
  {
   "cell_type": "code",
   "execution_count": null,
   "metadata": {},
   "outputs": [],
   "source": []
  }
 ],
 "metadata": {
  "kernelspec": {
   "display_name": "Python 3 (ipykernel)",
   "language": "python",
   "name": "python3"
  },
  "language_info": {
   "codemirror_mode": {
    "name": "ipython",
    "version": 3
   },
   "file_extension": ".py",
   "mimetype": "text/x-python",
   "name": "python",
   "nbconvert_exporter": "python",
   "pygments_lexer": "ipython3",
   "version": "3.9.13"
  }
 },
 "nbformat": 4,
 "nbformat_minor": 4
}
